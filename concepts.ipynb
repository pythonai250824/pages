{
 "cells": [
  {
   "cell_type": "markdown",
   "id": "53f9f518-2965-4225-825e-cb2b52dc8bc9",
   "metadata": {
    "jp-MarkdownHeadingCollapsed": true
   },
   "source": [
    "Matrix math\n",
    "Supervised learning – the model is trained on labeled data (input with the correct output provided)  \n",
    "Unsupervised learning – the model is trained on unlabeled data (only input data, no output labels)  \n",
    "Coefficient = mekadem  \n",
    "Line equation – slope and intercept  \n",
    "Ŷ (prediction) vs. Y (true value)  \n",
    "Residuals – difference between prediction and actual value  \n",
    "Feature – measurement on one scale (X), independent variable [e.g., house size]  \n",
    "Label / Target (Y value) – dependent variable, the value to predict [e.g., house price]  \n",
    "Normal equation  \n",
    "bias (𝑏) is a constant that shifts the output of the model\n",
    "\n",
    "correlation = a measure of how much two things change together  \n",
    "\n",
    "Overfitting – when a model learns the training data too well, including noise and random fluctuations, \n",
    "so it performs great on training data but poorly on new/unseen data  \n",
    "\n",
    "Underfitting – when a model is too simple to capture the underlying pattern in the data,  \n",
    "so it performs poorly on both training and new data  \n",
    "\n",
    "**evaluation:**  \n",
    "R²  \n",
    "how much of the changes in your target (Y) your model can explain using the features (X)  \n",
    "100% (R² = 1) → The model perfectly explains the data  \n",
    "0% (R² = 0) → The model explains nothing better than just guessing the average  \n",
    "Higher is better, but it can be misleading  \n",
    "\n",
    "Adjusted R²  \n",
    "Same as R², but it penalizes you for adding useless features  \n",
    "If you add a feature that helps, Adjusted R² will go up  \n",
    "If you add a feature that doesn’t help, Adjusted R² will go down  \n",
    "usually between 0-1, can be negative - which means bad model, better just to take the avg  \n",
    "scale = to normal a distance i.e. between 0-1  \n",
    "\n",
    "**train**  \n",
    "X_train, X_test, y_train, y_test  \n",
    "X_train = X features used in train (i.e. room, floor...)  \n",
    "y_train = Y label used in train (i.e. app price)  \n",
    "X_test = X features used in test  \n",
    "y_test = Y label used in test   \n",
    "\n",
    "cost function = error rate\n",
    "\n",
    "fit = train the model\n",
    "evaluation of a model\n",
    "R^2 0-1, Adj R^ 0-1\n",
    "\n",
    "Gradient – the steepest slope vector pointing in the direction of the greatest increase  \n",
    "Gradient descent – the opposite direction of the gradient, the path of steepest descent  \n",
    "Learning rate – the step size taken in each iteration  \n",
    "\n",
    "1 Linear regression – 1 X variable a straight line that minimizes the average of squared residual values  \n",
    "2 Linear regression with multiple X variables  \n",
    "3 Polynomail regression - 1 X  \n",
    "4 Polynomail regression - multiple X\n",
    "\n"
   ]
  },
  {
   "cell_type": "code",
   "execution_count": 32,
   "id": "963dbfca-9fe3-409e-b532-2f3ce412b4a8",
   "metadata": {},
   "outputs": [
    {
     "name": "stdout",
     "output_type": "stream",
     "text": [
      "['1' 'x' 'x^2']\n",
      "[ 0.         -5.711784    0.15938051]\n",
      "100.04845297494242\n"
     ]
    }
   ],
   "source": [
    "\n",
    "\n",
    "############################# with pipe-line \n",
    "\n",
    "import numpy as np\n",
    "import matplotlib.pyplot as plt\n",
    "from sklearn.preprocessing import PolynomialFeatures\n",
    "from sklearn.linear_model import LinearRegression\n",
    "from sklearn.pipeline import Pipeline\n",
    "\n",
    "# Our data\n",
    "training_hours = np.array([2, 3, 5, 7, 9, 12, 16, 20, 25, 30]).reshape(-1, 1)\n",
    "running_times = np.array([95, 85, 70, 65, 60, 55, 50, 53, 58, 70])\n",
    "\n",
    "# Create polynomial regression model (degree 2) -- see explanation below\n",
    "polynomial_model = Pipeline([\n",
    "    ('poly', PolynomialFeatures(degree=2)),\n",
    "    ('linear', LinearRegression())\n",
    "])\n",
    "\n",
    "# Fit the model\n",
    "polynomial_model.fit(training_hours, running_times)\n",
    "\n",
    "print(polynomial_model.named_steps['poly'].get_feature_names_out(['x']))\n",
    "print(polynomial_model.named_steps['linear'].coef_)\n",
    "print(polynomial_model.named_steps['linear'].intercept_)"
   ]
  },
  {
   "cell_type": "code",
   "execution_count": 31,
   "id": "24af46a0-ee75-4504-9023-68322033cc2e",
   "metadata": {},
   "outputs": [
    {
     "name": "stdout",
     "output_type": "stream",
     "text": [
      "Predicted running time: 50.23230725229783\n"
     ]
    },
    {
     "data": {
      "text/plain": [
       "[<matplotlib.lines.Line2D at 0x21ff5d17d90>]"
      ]
     },
     "execution_count": 31,
     "metadata": {},
     "output_type": "execute_result"
    },
    {
     "data": {
      "image/png": "[encoded data removed]",
      "text/plain": [
       "<Figure size 1000x600 with 1 Axes>"
      ]
     },
     "metadata": {},
     "output_type": "display_data"
    }
   ],
   "source": [
    "\n",
    "\n",
    "############################# without pipe-line \n",
    "\n",
    "import numpy as np\n",
    "from sklearn.preprocessing import PolynomialFeatures\n",
    "from sklearn.linear_model import LinearRegression\n",
    "\n",
    "# Data\n",
    "training_hours = np.array([2, 3, 5, 7, 9, 12, 16, 20, 25, 30]).reshape(-1, 1)\n",
    "running_times = np.array([95, 85, 70, 65, 60, 55, 50, 53, 58, 70])\n",
    "\n",
    "# Step 1: Transform features to polynomial form (degree=2)\n",
    "poly = PolynomialFeatures(degree=2)\n",
    "X_poly = poly.fit_transform(training_hours)\n",
    "\n",
    "# Step 2: Fit linear regression to the transformed features\n",
    "model = LinearRegression()\n",
    "model.fit(X_poly, running_times)\n",
    "\n",
    "# Example: Predict for 15 training hours\n",
    "hours = np.array([[15]])\n",
    "hours_poly = poly.transform(hours)\n",
    "predicted_time = model.predict(hours_poly)\n",
    "print(\"Predicted running time:\", predicted_time[0])\n",
    "\n",
    "x_curve = np.linspace(0, 35, 100).reshape(-1, 1)\n",
    "# y_curve = polynomial_model.predict(x_curve)  # pipeline\n",
    "y_curve = model.predict(poly.transform(x_curve))\n",
    "\n",
    "# Plot the results\n",
    "plt.figure(figsize=(10, 6))\n",
    "plt.scatter(training_hours, running_times, color='blue', label='Data points')\n",
    "plt.plot(x_curve, y_curve, color='red', label='Polynomial regression')"
   ]
  }
 ],
 "metadata": {
  "kernelspec": {
   "display_name": "Python 3 (ipykernel)",
   "language": "python",
   "name": "python3"
  },
  "language_info": {
   "codemirror_mode": {
    "name": "ipython",
    "version": 3
   },
   "file_extension": ".py",
   "mimetype": "text/x-python",
   "name": "python",
   "nbconvert_exporter": "python",
   "pygments_lexer": "ipython3",
   "version": "3.11.7"
  }
 },
 "nbformat": 4,
 "nbformat_minor": 5
}
