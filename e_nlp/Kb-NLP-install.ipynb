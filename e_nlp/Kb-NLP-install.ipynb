{
 "cells": [
  {
   "cell_type": "code",
   "execution_count": 1,
   "id": "9a4cfae3-3662-4681-bbd4-80ccd0dff67a",
   "metadata": {},
   "outputs": [
    {
     "name": "stdout",
     "output_type": "stream",
     "text": [
      "Retrieving notices: ...working... done\n",
      "Channels:\n",
      " - defaults\n",
      "Platform: win-64\n",
      "Collecting package metadata (repodata.json): ...working... done\n",
      "Solving environment: ...working... done\n",
      "\n",
      "## Package Plan ##\n",
      "\n",
      "  environment location: C:\\Users\\User\\.conda\\envs\\spacy_env\n",
      "\n",
      "  added / updated specs:\n",
      "    - python=3.11\n",
      "\n",
      "\n",
      "The following packages will be downloaded:\n",
      "\n",
      "    package                    |            build\n",
      "    ---------------------------|-----------------\n",
      "    ca-certificates-2025.7.15  |       haa95532_0         127 KB\n",
      "    expat-2.7.1                |       h8ddb27b_0         259 KB\n",
      "    openssl-3.0.17             |       h35632f6_0         7.8 MB\n",
      "    pip-25.2                   |     pyhc872135_0         1.2 MB\n",
      "    python-3.11.13             |       h981015d_0        18.7 MB\n",
      "    sqlite-3.50.2              |       hda9a48d_1        1017 KB\n",
      "    tk-8.6.15                  |       hf199647_0         3.5 MB\n",
      "    ucrt-10.0.22621.0          |       haa95532_0         620 KB\n",
      "    vc-14.3                    |      h2df5915_10          19 KB\n",
      "    vc14_runtime-14.44.35208   |      h4927774_10         825 KB\n",
      "    vs2015_runtime-14.44.35208 |      ha6b5a95_10          19 KB\n",
      "    zlib-1.2.13                |       h500123d_2         121 KB\n",
      "    ------------------------------------------------------------\n",
      "                                           Total:        34.2 MB\n",
      "\n",
      "The following NEW packages will be INSTALLED:\n",
      "\n",
      "  bzip2              pkgs/main/win-64::bzip2-1.0.8-h2bbff1b_6 \n",
      "  ca-certificates    pkgs/main/win-64::ca-certificates-2025.7.15-haa95532_0 \n",
      "  expat              pkgs/main/win-64::expat-2.7.1-h8ddb27b_0 \n",
      "  libffi             pkgs/main/win-64::libffi-3.4.4-hd77b12b_1 \n",
      "  openssl            pkgs/main/win-64::openssl-3.0.17-h35632f6_0 \n",
      "  pip                pkgs/main/noarch::pip-25.2-pyhc872135_0 \n",
      "  python             pkgs/main/win-64::python-3.11.13-h981015d_0 \n",
      "  setuptools         pkgs/main/win-64::setuptools-78.1.1-py311haa95532_0 \n",
      "  sqlite             pkgs/main/win-64::sqlite-3.50.2-hda9a48d_1 \n",
      "  tk                 pkgs/main/win-64::tk-8.6.15-hf199647_0 \n",
      "  tzdata             pkgs/main/noarch::tzdata-2025b-h04d1e81_0 \n",
      "  ucrt               pkgs/main/win-64::ucrt-10.0.22621.0-haa95532_0 \n",
      "  vc                 pkgs/main/win-64::vc-14.3-h2df5915_10 \n",
      "  vc14_runtime       pkgs/main/win-64::vc14_runtime-14.44.35208-h4927774_10 \n",
      "  vs2015_runtime     pkgs/main/win-64::vs2015_runtime-14.44.35208-ha6b5a95_10 \n",
      "  wheel              pkgs/main/win-64::wheel-0.45.1-py311haa95532_0 \n",
      "  xz                 pkgs/main/win-64::xz-5.6.4-h4754444_1 \n",
      "  zlib               pkgs/main/win-64::zlib-1.2.13-h500123d_2 \n",
      "\n",
      "\n",
      "\n",
      "Downloading and Extracting Packages: ...working... done\n",
      "Preparing transaction: ...working... done\n",
      "Verifying transaction: ...working... done\n",
      "Executing transaction: ...working... done\n",
      "#\n",
      "# To activate this environment, use\n",
      "#\n",
      "#     $ conda activate spacy_env\n",
      "#\n",
      "# To deactivate an active environment, use\n",
      "#\n",
      "#     $ conda deactivate\n",
      "\n"
     ]
    }
   ],
   "source": [
    "!conda create -n spacy_env python=3.11 -y"
   ]
  },
  {
   "cell_type": "code",
   "execution_count": 2,
   "id": "42abb16d-583f-4ff4-9929-c3cab8be5d73",
   "metadata": {},
   "outputs": [
    {
     "name": "stdout",
     "output_type": "stream",
     "text": [
      "Channels:\n",
      " - defaults\n",
      "Platform: win-64\n",
      "Collecting package metadata (repodata.json): ...working... done\n",
      "Solving environment: ...working... done\n",
      "\n",
      "## Package Plan ##\n",
      "\n",
      "  environment location: C:\\Users\\User\\.conda\\envs\\spacy_env\n",
      "\n",
      "  added / updated specs:\n",
      "    - ipykernel\n",
      "\n",
      "\n",
      "The following packages will be downloaded:\n",
      "\n",
      "    package                    |            build\n",
      "    ---------------------------|-----------------\n",
      "    debugpy-1.8.16             |  py311h885b0b7_0         3.5 MB\n",
      "    decorator-5.2.1            |  py311haa95532_0          42 KB\n",
      "    executing-2.2.1            |  py311haa95532_0         335 KB\n",
      "    jupyter_core-5.8.1         |  py311haa95532_0         129 KB\n",
      "    packaging-25.0             |  py311haa95532_0         205 KB\n",
      "    psutil-7.0.0               |  py311h02ab6af_0         571 KB\n",
      "    pure_eval-0.2.3            |  py311haa95532_0          34 KB\n",
      "    pywin32-311                |  py311h885b0b7_0        11.6 MB\n",
      "    stack_data-0.6.3           |  py311haa95532_0          66 KB\n",
      "    tornado-6.5.1              |  py311h827c3e9_0         896 KB\n",
      "    typing_extensions-4.15.0   |  py311haa95532_0         101 KB\n",
      "    wcwidth-0.2.13             |  py311haa95532_0          74 KB\n",
      "    ------------------------------------------------------------\n",
      "                                           Total:        17.5 MB\n",
      "\n",
      "The following NEW packages will be INSTALLED:\n",
      "\n",
      "  asttokens          pkgs/main/win-64::asttokens-3.0.0-py311haa95532_0 \n",
      "  colorama           pkgs/main/win-64::colorama-0.4.6-py311haa95532_0 \n",
      "  comm               pkgs/main/win-64::comm-0.2.1-py311haa95532_0 \n",
      "  debugpy            pkgs/main/win-64::debugpy-1.8.16-py311h885b0b7_0 \n",
      "  decorator          pkgs/main/win-64::decorator-5.2.1-py311haa95532_0 \n",
      "  executing          pkgs/main/win-64::executing-2.2.1-py311haa95532_0 \n",
      "  ipykernel          pkgs/main/win-64::ipykernel-6.29.5-py311haa95532_1 \n",
      "  ipython            pkgs/main/win-64::ipython-9.1.0-py311haa95532_0 \n",
      "  ipython_pygments_~ pkgs/main/win-64::ipython_pygments_lexers-1.1.1-py311haa95532_0 \n",
      "  jedi               pkgs/main/win-64::jedi-0.19.2-py311haa95532_0 \n",
      "  jupyter_client     pkgs/main/win-64::jupyter_client-8.6.3-py311haa95532_0 \n",
      "  jupyter_core       pkgs/main/win-64::jupyter_core-5.8.1-py311haa95532_0 \n",
      "  libsodium          pkgs/main/win-64::libsodium-1.0.18-h62dcd97_0 \n",
      "  matplotlib-inline  pkgs/main/win-64::matplotlib-inline-0.1.6-py311haa95532_0 \n",
      "  nest-asyncio       pkgs/main/win-64::nest-asyncio-1.6.0-py311haa95532_0 \n",
      "  packaging          pkgs/main/win-64::packaging-25.0-py311haa95532_0 \n",
      "  parso              pkgs/main/win-64::parso-0.8.4-py311haa95532_0 \n",
      "  platformdirs       pkgs/main/win-64::platformdirs-4.3.7-py311haa95532_0 \n",
      "  prompt-toolkit     pkgs/main/win-64::prompt-toolkit-3.0.43-py311haa95532_0 \n",
      "  prompt_toolkit     pkgs/main/noarch::prompt_toolkit-3.0.43-hd3eb1b0_0 \n",
      "  psutil             pkgs/main/win-64::psutil-7.0.0-py311h02ab6af_0 \n",
      "  pure_eval          pkgs/main/win-64::pure_eval-0.2.3-py311haa95532_0 \n",
      "  pygments           pkgs/main/win-64::pygments-2.19.1-py311haa95532_0 \n",
      "  python-dateutil    pkgs/main/win-64::python-dateutil-2.9.0post0-py311haa95532_2 \n",
      "  pywin32            pkgs/main/win-64::pywin32-311-py311h885b0b7_0 \n",
      "  pyzmq              pkgs/main/win-64::pyzmq-26.2.0-py311h5da7b33_0 \n",
      "  six                pkgs/main/win-64::six-1.17.0-py311haa95532_0 \n",
      "  stack_data         pkgs/main/win-64::stack_data-0.6.3-py311haa95532_0 \n",
      "  tornado            pkgs/main/win-64::tornado-6.5.1-py311h827c3e9_0 \n",
      "  traitlets          pkgs/main/win-64::traitlets-5.14.3-py311haa95532_0 \n",
      "  typing_extensions  pkgs/main/win-64::typing_extensions-4.15.0-py311haa95532_0 \n",
      "  wcwidth            pkgs/main/win-64::wcwidth-0.2.13-py311haa95532_0 \n",
      "  zeromq             pkgs/main/win-64::zeromq-4.3.5-hd77b12b_0 \n",
      "\n",
      "\n",
      "\n",
      "Downloading and Extracting Packages: ...working... done\n",
      "Preparing transaction: ...working... done\n",
      "Verifying transaction: ...working... done\n",
      "Executing transaction: ...working... done\n"
     ]
    }
   ],
   "source": [
    "!conda install -n spacy_env ipykernel -y"
   ]
  },
  {
   "cell_type": "code",
   "execution_count": 3,
   "id": "3f0e6ea6-79bc-4da7-b402-c87bcb9a2355",
   "metadata": {},
   "outputs": [
    {
     "name": "stdout",
     "output_type": "stream",
     "text": [
      "Installed kernelspec spacy_env in C:\\Users\\User\\AppData\\Roaming\\jupyter\\kernels\\spacy_env\n"
     ]
    },
    {
     "name": "stderr",
     "output_type": "stream",
     "text": [
      "0.00s - Debugger warning: It seems that frozen modules are being used, which may\n",
      "0.00s - make the debugger miss breakpoints. Please pass -Xfrozen_modules=off\n",
      "0.00s - to python to disable frozen modules.\n",
      "0.00s - Note: Debugging will proceed. Set PYDEVD_DISABLE_FILE_VALIDATION=1 to disable this validation.\n"
     ]
    }
   ],
   "source": [
    "!python -m ipykernel install --user --name spacy_env --display-name \"Python sep-10 (spacy_env)\""
   ]
  },
  {
   "cell_type": "code",
   "execution_count": null,
   "id": "41a3f49b-63c3-4e11-9c53-6cd87d7b0c28",
   "metadata": {},
   "outputs": [],
   "source": [
    "#!pip install spacy"
   ]
  },
  {
   "cell_type": "code",
   "execution_count": null,
   "id": "835d50b4-0c7f-4998-81ef-a47d7bc3553e",
   "metadata": {},
   "outputs": [],
   "source": [
    "#!python -m spacy download en_core_web_sm"
   ]
  },
  {
   "cell_type": "code",
   "execution_count": null,
   "id": "0d69dcbc-fa82-4e25-899c-0f1c7f184afe",
   "metadata": {},
   "outputs": [],
   "source": [
    "#!python -m spacy validate"
   ]
  }
 ],
 "metadata": {
  "kernelspec": {
   "display_name": "Python 3 (ipykernel)",
   "language": "python",
   "name": "python3"
  },
  "language_info": {
   "codemirror_mode": {
    "name": "ipython",
    "version": 3
   },
   "file_extension": ".py",
   "mimetype": "text/x-python",
   "name": "python",
   "nbconvert_exporter": "python",
   "pygments_lexer": "ipython3",
   "version": "3.11.7"
  }
 },
 "nbformat": 4,
 "nbformat_minor": 5
}
